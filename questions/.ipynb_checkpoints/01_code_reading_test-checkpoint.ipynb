{
 "cells": [
  {
   "cell_type": "markdown",
   "id": "f53ef2e2",
   "metadata": {},
   "source": [
    "<h1><center>SAP IES AICOE\n",
    "    TAKE-HOME TEST</center></h1>\n",
    "<h2><center>Code Reading</center></h2>"
   ]
  },
  {
   "cell_type": "markdown",
   "id": "cce8a2c6",
   "metadata": {},
   "source": [
    "## Guideline:\n",
    "- Please explain in words what the function is doing. Identify what went wrong and make the neccesary change.\n",
    "- Your answer should include:\n",
    "    - A Markdown cell explaining the function\n",
    "    - Your corrected code"
   ]
  },
  {
   "cell_type": "markdown",
   "id": "9039dc8a",
   "metadata": {},
   "source": [
    "## Question:"
   ]
  },
  {
   "cell_type": "code",
   "execution_count": 4,
   "id": "f55d4aab",
   "metadata": {},
   "outputs": [],
   "source": [
    "import re\n",
    "import pandas as pd"
   ]
  },
  {
   "cell_type": "code",
   "execution_count": 1,
   "id": "c2a1eb3c",
   "metadata": {},
   "outputs": [],
   "source": [
    "def func(inp, recursive_level=0):\n",
    "    if not isinstance(inp, list):\n",
    "        return inp\n",
    "    return (\n",
    "        \"(\" + \" and \".join([func(out, recursive_level + 1) for out in inp]) + \")\"\n",
    "        if recursive_level > 1\n",
    "        else \" and \".join([func(out, recursive_level + 1) for out in inp])\n",
    "    )"
   ]
  },
  {
   "cell_type": "markdown",
   "id": "cef49a1f",
   "metadata": {},
   "source": [
    "**Function input**  \n",
    "`[\"a\", [\"b\", [\"c\", \"d\"]], [\"f\", \"g\"]]`\n",
    "\n",
    "**Expected output**  \n",
    "`a and (b and (c and d)) and (f and g)`\n",
    "\n",
    "**Actual output**  \n",
    "`a and b and (c and d) and f and g`\n",
    "\n",
    "**Hint**  \n",
    "Some knowledge of recursive functions may help with the debugging"
   ]
  },
  {
   "cell_type": "markdown",
   "id": "6d768ad7",
   "metadata": {},
   "source": [
    "## Answer:"
   ]
  },
  {
   "cell_type": "markdown",
   "id": "0fa685f8",
   "metadata": {},
   "source": [
    "**Please explain what the function is doing here:**\n"
   ]
  },
  {
   "cell_type": "code",
   "execution_count": null,
   "id": "403183ef",
   "metadata": {},
   "outputs": [],
   "source": [
    "# Begin your code here\n",
    "\n",
    "\n",
    "\n"
   ]
  }
 ],
 "metadata": {
  "kernelspec": {
   "display_name": "Python 3 (ipykernel)",
   "language": "python",
   "name": "python3"
  },
  "language_info": {
   "codemirror_mode": {
    "name": "ipython",
    "version": 3
   },
   "file_extension": ".py",
   "mimetype": "text/x-python",
   "name": "python",
   "nbconvert_exporter": "python",
   "pygments_lexer": "ipython3",
   "version": "3.9.12"
  }
 },
 "nbformat": 4,
 "nbformat_minor": 5
}
