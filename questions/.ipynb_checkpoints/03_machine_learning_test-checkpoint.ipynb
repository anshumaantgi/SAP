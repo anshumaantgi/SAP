{
 "cells": [
  {
   "cell_type": "markdown",
   "id": "f53ef2e2",
   "metadata": {},
   "source": [
    "<h1><center>SAP IES AICOE TAKE-HOME TEST </center></h1>\n",
    "<h2><center> Machine Learning </center></h2>"
   ]
  },
  {
   "cell_type": "markdown",
   "id": "be8c4275",
   "metadata": {},
   "source": [
    "# Please choose <font color=\"red\">ONLY 1</font> part of your interest: either Part A or B"
   ]
  },
  {
   "cell_type": "markdown",
   "id": "3ab2fcdd",
   "metadata": {},
   "source": [
    "# <font color=\"blue\">Part A</font>"
   ]
  },
  {
   "cell_type": "markdown",
   "id": "ce40cdf4",
   "metadata": {},
   "source": [
    "## Guideline:\n",
    "\n",
    "- File to use: **contract_dataset_v20220109.csv**\n",
    "- Train a **MULTI-CLASS CLASSIFICATION MODEL**. Your final model should be able to take in a test clause (column `provision`) and predict its provision type (column `label`). \n",
    "- Perform your own train-test split.\n",
    "- Choose your own evaluation metrics and explain your choice(s).\n",
    "- You may refer to, and/or copy code blocks from any public Github repositories, Kaggle kernels or tutorials online. However, please add a comment indicating the source.\n",
    "- You are free to conduct exploratory data analysis, write unit tests or any other additional steps as you find neccesary.\n",
    "- The purpose is NOT to train the best-performing model. It is to help us assess your ability to learn and apply NLP modelling techniques."
   ]
  },
  {
   "cell_type": "markdown",
   "id": "29ba56d7",
   "metadata": {},
   "source": [
    "## Answer:"
   ]
  },
  {
   "cell_type": "code",
   "execution_count": null,
   "id": "e9314cca",
   "metadata": {},
   "outputs": [],
   "source": [
    "# Put your code here\n",
    "\n",
    "\n"
   ]
  },
  {
   "cell_type": "markdown",
   "id": "b8b25e57",
   "metadata": {},
   "source": [
    "# <font color=\"blue\">Part B</font>"
   ]
  },
  {
   "cell_type": "markdown",
   "id": "30a7721f",
   "metadata": {},
   "source": [
    "## Guideline:"
   ]
  },
  {
   "cell_type": "markdown",
   "id": "c34925a4",
   "metadata": {},
   "source": [
    "**STEP 1: DATA PREPARATION**  \n",
    "\n",
    "- Download the CUAD dataset here: https://www.atticusprojectai.org/cuad\n",
    "- Read the CUAD's [Datasheet](https://drive.google.com/drive/u/0/folders/1Yu-JnZj1LbVBfTdPiHfMDnaKZj4eqks8) and understand the format of the data."
   ]
  },
  {
   "cell_type": "markdown",
   "id": "7a4ac35b",
   "metadata": {},
   "source": [
    "**STEP 2: MODELLING**  \n",
    "- Train a machine learning model to extract expiry date from a given plaintext contract. To account for model explainability, you may also train a model to first extract the relevant clause from a contract by outputting start and end tokens, and then extract the expiry date using a rule-based extractor. \n",
    "- Perform your own train-test split.\n",
    "- Choose your own evaluation metrics and explain your choice(s)\n",
    "- Feel feel to employ whichever modelling techniques you see fit, e.g. question answering, custom-NER, etc.\n",
    "- We highly recommend you to read CUAD's paper on arxiv: [CUAD: An Expert-Annotated NLP Dataset for Legal Contract Review](https://arxiv.org/abs/2103.06268)\n",
    "\n",
    "- You may refer to, and/or copy code blocks from any public Github repositories, Kaggle kernels or tutorials online. However, please add a comment indicating the source.\n",
    "- You are free to conduct exploratory data analysis, write unit tests or any other additional steps as you find neccesary.\n",
    "- The purpose is NOT to train the best-performing model. It is to help us assess your ability to learn and apply NLP modelling techniques."
   ]
  },
  {
   "cell_type": "markdown",
   "id": "b777dbbe",
   "metadata": {},
   "source": [
    "## Answer:"
   ]
  },
  {
   "cell_type": "code",
   "execution_count": null,
   "id": "373a813e",
   "metadata": {},
   "outputs": [],
   "source": [
    "# Begin your code here\n",
    "\n",
    "\n"
   ]
  }
 ],
 "metadata": {
  "kernelspec": {
   "display_name": "Python 3 (ipykernel)",
   "language": "python",
   "name": "python3"
  },
  "language_info": {
   "codemirror_mode": {
    "name": "ipython",
    "version": 3
   },
   "file_extension": ".py",
   "mimetype": "text/x-python",
   "name": "python",
   "nbconvert_exporter": "python",
   "pygments_lexer": "ipython3",
   "version": "3.9.12"
  }
 },
 "nbformat": 4,
 "nbformat_minor": 5
}
