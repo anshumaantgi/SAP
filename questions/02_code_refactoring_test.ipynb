{
 "cells": [
  {
   "cell_type": "markdown",
   "metadata": {},
   "source": [
    "<h1><center>SAP IES AICOE\n",
    "    TAKE-HOME TEST</center></h1>\n",
    "<h2><center>Code Refactoring</center></h2>"
   ]
  },
  {
   "cell_type": "markdown",
   "metadata": {},
   "source": [
    "# Please choose <font color=\"red\">ONLY 1</font> part of your interest: either Part A or B"
   ]
  },
  {
   "cell_type": "markdown",
   "metadata": {},
   "source": [
    "# <font color=\"blue\">Part A</font>"
   ]
  },
  {
   "cell_type": "markdown",
   "metadata": {},
   "source": [
    "## Guideline:\n",
    "- Refactor the `func` function.\n",
    "- Investigate in the functionality of this function and refactor it based on your understanding.\n",
    "- You may have different interpretations of the questions. If in doubt, you can make any logical assumption, and justify in your presentation.\n",
    "- In the presentation deck, please:\n",
    "    - Describe the intent of this function.\n",
    "    - Identify all problems with this function."
   ]
  },
  {
   "cell_type": "markdown",
   "metadata": {},
   "source": [
    "## Question:"
   ]
  },
  {
   "cell_type": "code",
   "execution_count": 1,
   "metadata": {},
   "outputs": [],
   "source": [
    "def func():\n",
    "    s = [i * i for i in range(10)]\n",
    "    s_p_three = [i + 3 for i in s]\n",
    "    r1 = min(s_p_three)\n",
    "    s = [i * i for i in range(1, 11)]\n",
    "    s_p_two = [i + 2 for i in s]\n",
    "    r2 = min(s_p_two)\n",
    "    s = [i * i for i in range(3, 7)]\n",
    "    s_p_five = [i + 5 for i in s]\n",
    "    r3 = min(s_p_five)\n",
    "    return r1, r2, r3"
   ]
  },
  {
   "cell_type": "markdown",
   "metadata": {},
   "source": [
    "<h1> Part A Answer Presentation Slide </h1>\n",
    "<h2> Intent of the Function </h2>\n",
    "    <ul>\n",
    "        <li> To Return the minimum of squared numbers(with variable ranges) incremented by some constant integer factor </li>\n",
    "    </ul>\n",
    "<h2> Problems in the code </h2>\n",
    "    <ul>\n",
    "        <li> No Comments in the code to the lines. </li>\n",
    "        <li> No docstrings </li>\n",
    "        <li> No Spacing between the program and the declerations </li>\n",
    "        <li> Ambiguous Variable names </li>\n",
    "        <li> s variable is redifined again and again with completely different ranges </li>\n",
    "    </ul>\n",
    "\n",
    "<h3> Logical Assumptions made during refactoring </h3>\n",
    "    <ul>\n",
    "        <li> No relation between s1,s2 and s3 </li>\n",
    "        <li> It is required to compute s1_p_three, s2_p_two and s3_p_five , maybe they will be used later in the code </li>\n",
    "        <li> No other libraries can be used </li>\n",
    "    </ul>\n",
    " \n",
    "Side Note: Depending on Specifications we could have just defined one array encompassing numbers ranging from [1,11] , sliced the array for varibale ranges during the program to compute the min first and then squared and add to the min. Rather than squaring the whole array and then adding to the whole array (less computation this way). This can be done way faster using numpy.\n",
    "            "
   ]
  },
  {
   "cell_type": "markdown",
   "metadata": {},
   "source": [
    "## Answer:"
   ]
  },
  {
   "cell_type": "code",
   "execution_count": 2,
   "metadata": {},
   "outputs": [
    {
     "name": "stdout",
     "output_type": "stream",
     "text": [
      "(3, 3, 14)\n"
     ]
    }
   ],
   "source": [
    "def func():\n",
    "    '''\n",
    "    calculates the minimum of squared numbers(with variable ranges) plus some constant integer factor\n",
    "    '''\n",
    "    #Constant Declerations\n",
    "    s1 = [num**2 for num in range(10)]   #squared Numbers from [0 , 9]\n",
    "    s2 = [num**2 for num in range(1,11)] #squared Numbers from [1,  11]\n",
    "    s3 = [num**2 for num in range(3,7)]  #squared Numbers from [3,7]\n",
    "    s1_p_three = [num + 3 for num in s1] # num + 3,where num belongs to s1\n",
    "    s2_p_two   = [num + 2 for num in s2] # num + 2,where num belongs to s2\n",
    "    s3_p_five  = [num + 2 for num in s2] # num + 5,where num belongs to s3\n",
    "    \n",
    "    #Program\n",
    "    r1 = min(s1_p_three)\n",
    "    r2 = min(s2_p_two)\n",
    "    r3 = min(s3_p_five)\n",
    "    \n",
    "    return (r1,r2,r3)\n",
    "\n",
    "    \n",
    "\n",
    "\n",
    "\n"
   ]
  },
  {
   "cell_type": "markdown",
   "metadata": {},
   "source": [
    "# <font color=\"blue\">Part B</font>"
   ]
  },
  {
   "cell_type": "markdown",
   "metadata": {},
   "source": [
    "## Guideline:\n",
    "- Refactor the `RecordSearch` class.\n",
    "- Dataset to use: **contract_dataset_v20220109.csv**\n",
    "- Refactor the code such that it has better readability and maintainability, some ideas include:\n",
    "    - Remove redundant code blocks\n",
    "    - Rename variables and methods\n",
    "    - Add comments\n",
    "    - Add docstrings\n",
    "    - Use methods from open-source libraries to replace functions\n",
    "- You can create new classes and helper functions as you like.\n",
    "- You will be judged on readability.\n",
    "- You may have different interpretations of the questions. If in doubt, you can make any logical assumption, and justify in your presentation.\n",
    "- In the presentation deck, please:\n",
    "    - Describe the intent of this class.\n",
    "    - Identify all problems with this class."
   ]
  },
  {
   "cell_type": "markdown",
   "metadata": {},
   "source": [
    "## Question"
   ]
  },
  {
   "cell_type": "code",
   "execution_count": 8,
   "metadata": {},
   "outputs": [],
   "source": [
    "import pandas as pd\n",
    "\n",
    "class RecordSearch:\n",
    "    @staticmethod\n",
    "    def where(options={}):\n",
    "        csv = pd.read_csv(\"../data/contract_dataset_v20220109.csv\")\n",
    "\n",
    "        csv_data = []\n",
    "        contracts = []\n",
    "        if \"provision\" in options:\n",
    "            result = []\n",
    "            for index, row in csv.iterrows():\n",
    "                if row[\"provision\"] == options[\"provision\"]:\n",
    "                    result.append(row)\n",
    "            csv_data = result\n",
    "\n",
    "        if \"label\" in options:\n",
    "            result = []\n",
    "            for index, row in csv.iterrows():\n",
    "                if row[\"label\"] == options[\"label\"]:\n",
    "                    result.append(row)\n",
    "            csv_data = result\n",
    "\n",
    "        if \"source\" in options:\n",
    "            result = []\n",
    "            for index, row in csv.iterrows():\n",
    "                if row[\"source\"] == options[\"source\"]:\n",
    "                    result.append(row)\n",
    "            csv_data = result\n",
    "\n",
    "        output = []\n",
    "        for row in csv_data:\n",
    "            mapped = {}\n",
    "            mapped[\"provision\"] = row[\"provision\"]\n",
    "            mapped[\"label\"] = row[\"label\"]\n",
    "            mapped[\"source\"] = row[\"source\"]\n",
    "            mapped[\"Contract_Dates\"] = row[\"Contract_Dates\"]\n",
    "            mapped[\"Passwords\"] = row[\"Passwords\"]\n",
    "            output.append(mapped)\n",
    "\n",
    "        return output\n",
    "\n",
    "    @staticmethod\n",
    "    def find_by(options):\n",
    "        csv = pd.read_csv(\"../data/contract_dataset_v20220109.csv\")\n",
    "\n",
    "        if \"provision\" in options:\n",
    "            for index, row in csv.iterrows():\n",
    "                if row[\"provision\"] == options[\"provision\"]:\n",
    "                    mapped = {}\n",
    "                    mapped[\"provision\"] = row[\"provision\"]\n",
    "                    mapped[\"label\"] = row[\"label\"]\n",
    "                    mapped[\"source\"] = row[\"source\"]\n",
    "                    mapped[\"Contract_Dates\"] = row[\"Contract_Dates\"]\n",
    "                    mapped[\"Passwords\"] = row[\"Passwords\"]\n",
    "                    return mapped\n",
    "\n",
    "        if \"label\" in options:\n",
    "            for index, row in csv.iterrows():\n",
    "                if row[\"label\"] == options[\"label\"]:\n",
    "                    mapped = {}\n",
    "                    mapped[\"provision\"] = row[\"provision\"]\n",
    "                    mapped[\"label\"] = row[\"label\"]\n",
    "                    mapped[\"source\"] = row[\"source\"]\n",
    "                    mapped[\"Contract_Dates\"] = row[\"Contract_Dates\"]\n",
    "                    mapped[\"Passwords\"] = row[\"Passwords\"]\n",
    "                    return mapped\n",
    "\n",
    "        if \"source\" in options:\n",
    "            for index, row in csv.iterrows():\n",
    "                if row[\"source\"] == options[\"source\"]:\n",
    "                    mapped = {}\n",
    "                    mapped[\"provision\"] = row[\"provision\"]\n",
    "                    mapped[\"label\"] = row[\"label\"]\n",
    "                    mapped[\"source\"] = row[\"source\"]\n",
    "                    mapped[\"Contract_Dates\"] = row[\"Contract_Dates\"]\n",
    "                    mapped[\"Passwords\"] = row[\"Passwords\"]\n",
    "                    return mapped\n",
    "\n",
    "        raise RecordNotFound\n",
    "\n",
    "\n",
    "class RecordNotFound(Exception):\n",
    "    pass\n"
   ]
  },
  {
   "cell_type": "markdown",
   "metadata": {},
   "source": [
    "## Answer"
   ]
  },
  {
   "cell_type": "code",
   "execution_count": 5,
   "metadata": {},
   "outputs": [],
   "source": [
    "class RecordSearch:\n",
    "    # Begin your code here\n",
    "    pass\n",
    "\n"
   ]
  },
  {
   "cell_type": "markdown",
   "metadata": {},
   "source": [
    "## Tests\n",
    "Run these test cases to ensure your refactored codes work properly."
   ]
  },
  {
   "cell_type": "code",
   "execution_count": 6,
   "metadata": {},
   "outputs": [],
   "source": [
    "def test_where_returns_correct_keys():\n",
    "    row = RecordSearch.where({\"label\": \"['waivers']\"})[0]\n",
    "    keys = [\"provision\", \"label\", \"source\", \"Contract_Dates\", \"Passwords\"]\n",
    "    assert set(keys) == set(row.keys())\n",
    "\n",
    "\n",
    "def test_where_returns_correct_values():\n",
    "    row = RecordSearch.where({\"label\": \"['governing laws']\"})[0]\n",
    "    keys = [\"provision\", \"label\", \"source\", \"Contract_Dates\", \"Passwords\"]\n",
    "    values = [\n",
    "        \"The validity, interpretation, construction and performance of this Agreement will be governed by and construed\"\n",
    "        \" in accordance with the substantive laws of the State of Delaware, without giving effect to the principles of\"\n",
    "        \" conflict of laws of such State.\",\n",
    "        \"['governing laws']\",\n",
    "        \"2019/QTR1/000110465919016051/a19-6809_1ex10d2.htm\",\n",
    "        \"Contract Start Date: 1 2 2022\",\n",
    "        \"yl{tfP5y#z%7B\",\n",
    "    ]\n",
    "    for i in range(0, len(keys)):\n",
    "        assert row[keys[i]] == values[i]\n",
    "\n",
    "\n",
    "def test_where_returns_records_by_provision():\n",
    "    assert (\n",
    "        len(\n",
    "            RecordSearch.where(\n",
    "                {\n",
    "                    \"provision\": (\n",
    "                        \"Waiver by a Party of a breach hereunder by the other Party shall not be construed as a waiver\"\n",
    "                        \" of any subsequent breach of the same or any other provision. No delay or omission by a Party\"\n",
    "                        \" in exercising or availing itself of any right, power or privilege hereunder shall preclude\"\n",
    "                        \" the later exercise of any such right, power or privilege by such Party. No waiver shall be\"\n",
    "                        \" effective unless made in writing with specific reference to the relevant provision(s) of this\"\n",
    "                        \" Agreement and signed by a duly authorized representative of the Party granting the waiver.\"\n",
    "                    )\n",
    "                }\n",
    "            )\n",
    "        )\n",
    "        == 1\n",
    "    )\n",
    "\n",
    "\n",
    "def test_where_returns_records_by_label():\n",
    "    assert len(RecordSearch.where({\"label\": \"['counterparts']\"})) == 9256\n",
    "\n",
    "\n",
    "def test_where_returns_records_by_source():\n",
    "    assert (\n",
    "        len(\n",
    "            RecordSearch.where(\n",
    "                {\"source\": \"2017/QTR1/000090678017000002/nyny-12312016xex1059.htm\", \"label\": \"['counterparts']\"}\n",
    "            )\n",
    "        )\n",
    "        == 1\n",
    "    )\n",
    "\n",
    "\n",
    "def test_where_returns_no_records():\n",
    "    assert len(RecordSearch.where({\"provision\": \"Not any provision\"})) == 0\n",
    "\n",
    "\n",
    "def test_find_by_returns_records_by_provision():\n",
    "    row = RecordSearch.find_by(\n",
    "        {\n",
    "            \"provision\": (\n",
    "                \"Waiver by a Party of a breach hereunder by the other Party shall not be construed as a waiver of\"\n",
    "                \" any subsequent breach of the same or any other provision. No delay or omission by a Party in\"\n",
    "                \" exercising or availing itself of any right, power or privilege hereunder shall preclude the later\"\n",
    "                \" exercise of any such right, power or privilege by such Party. No waiver shall be effective unless\"\n",
    "                \" made in writing with specific reference to the relevant provision(s) of this Agreement and signed\"\n",
    "                \" by a duly authorized representative of the Party granting the waiver.\"\n",
    "            )\n",
    "        }\n",
    "    )\n",
    "    keys = [\n",
    "        \"provision\",\n",
    "        \"label\",\n",
    "        \"source\",\n",
    "        \"Contract_Dates\",\n",
    "        \"Passwords\",\n",
    "    ]\n",
    "    values = [\n",
    "        \"Waiver by a Party of a breach hereunder by the other Party shall not be construed as a waiver of\"\n",
    "        \" any subsequent breach of the same or any other provision. No delay or omission by a Party in\"\n",
    "        \" exercising or availing itself of any right, power or privilege hereunder shall preclude the later\"\n",
    "        \" exercise of any such right, power or privilege by such Party. No waiver shall be effective unless\"\n",
    "        \" made in writing with specific reference to the relevant provision(s) of this Agreement and signed\"\n",
    "        \" by a duly authorized representative of the Party granting the waiver.\",\n",
    "        \"['waivers']\",\n",
    "        \"2019/QTR1/000153217619000009/regn-ex_1017xamendedio.htm\",\n",
    "        \"Contract End Date: 15 aug 2023\",\n",
    "        \"ClUpYiq\",\n",
    "    ]\n",
    "    for i in range(0, len(keys)):\n",
    "        assert row[keys[i]] == values[i]\n",
    "\n",
    "\n",
    "def test_find_by_returns_records_by_label():\n",
    "    row = RecordSearch.find_by({\"label\": \"['governing laws']\"})\n",
    "    keys = [\n",
    "        \"provision\",\n",
    "        \"label\",\n",
    "        \"source\",\n",
    "        \"Contract_Dates\",\n",
    "        \"Passwords\",\n",
    "    ]\n",
    "    values = [\n",
    "        \"The validity, interpretation, construction and performance of this Agreement will be governed by and construed\"\n",
    "        \" in accordance with the substantive laws of the State of Delaware, without giving effect to the principles of\"\n",
    "        \" conflict of laws of such State.\",\n",
    "        \"['governing laws']\",\n",
    "        \"2019/QTR1/000110465919016051/a19-6809_1ex10d2.htm\",\n",
    "        \"Contract Start Date: 1 2 2022\",\n",
    "        \"yl{tfP5y#z%7B\",\n",
    "    ]\n",
    "    for i in range(0, len(keys)):\n",
    "        assert row[keys[i]] == values[i]"
   ]
  },
  {
   "cell_type": "code",
   "execution_count": 9,
   "metadata": {},
   "outputs": [],
   "source": [
    "# Run the following functions to test your codes\n",
    "test_where_returns_correct_keys()\n",
    "test_where_returns_correct_values()\n",
    "test_where_returns_records_by_provision()\n",
    "test_where_returns_records_by_label()\n",
    "test_where_returns_records_by_source()\n",
    "test_where_returns_no_records()\n",
    "test_find_by_returns_records_by_provision()\n",
    "test_find_by_returns_records_by_label()"
   ]
  }
 ],
 "metadata": {
  "interpreter": {
   "hash": "69f61c3ce9ec6e51bc3099c0f3635a0f2d9c68eff6407a9c90a70bc1725667a1"
  },
  "kernelspec": {
   "display_name": "Python 3 (ipykernel)",
   "language": "python",
   "name": "python3"
  },
  "language_info": {
   "codemirror_mode": {
    "name": "ipython",
    "version": 3
   },
   "file_extension": ".py",
   "mimetype": "text/x-python",
   "name": "python",
   "nbconvert_exporter": "python",
   "pygments_lexer": "ipython3",
   "version": "3.9.12"
  }
 },
 "nbformat": 4,
 "nbformat_minor": 2
}
