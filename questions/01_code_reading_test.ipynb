{
 "cells": [
  {
   "cell_type": "markdown",
   "id": "f53ef2e2",
   "metadata": {},
   "source": [
    "<h1><center>SAP IES AICOE\n",
    "    TAKE-HOME TEST</center></h1>\n",
    "<h2><center>Code Reading</center></h2>"
   ]
  },
  {
   "cell_type": "markdown",
   "id": "cce8a2c6",
   "metadata": {},
   "source": [
    "## Guideline:\n",
    "- Please explain in words what the function is doing. Identify what went wrong and make the neccesary change.\n",
    "- Your answer should include:\n",
    "    - A Markdown cell explaining the function\n",
    "    - Your corrected code"
   ]
  },
  {
   "cell_type": "markdown",
   "id": "9039dc8a",
   "metadata": {},
   "source": [
    "## Question:"
   ]
  },
  {
   "cell_type": "code",
   "execution_count": 25,
   "id": "f55d4aab",
   "metadata": {},
   "outputs": [],
   "source": [
    "import re\n",
    "import pandas as pd"
   ]
  },
  {
   "cell_type": "code",
   "execution_count": 26,
   "id": "c2a1eb3c",
   "metadata": {},
   "outputs": [],
   "source": [
    "def func(inp, recursive_level=0):\n",
    "    if not isinstance(inp, list):\n",
    "        return inp\n",
    "    return (\n",
    "        \"(\" + \" and \".join([func(out, recursive_level + 1) for out in inp]) + \")\"\n",
    "        if recursive_level > 1\n",
    "        else \" and \".join([func(out, recursive_level + 1) for out in inp])\n",
    "    )"
   ]
  },
  {
   "cell_type": "code",
   "execution_count": 43,
   "id": "7082f4ed",
   "metadata": {},
   "outputs": [],
   "source": [
    "def func_correct(inp, recursive_level=0):\n",
    "    if not isinstance(inp, list):\n",
    "        #Base Case\n",
    "        return inp\n",
    "    elif recursive_level == 0:\n",
    "        # First_Case\n",
    "        return \" and \".join([func_correct(out, recursive_level + 1) for out in inp])\n",
    "    else:\n",
    "        # Recursive Case\n",
    "        return \"(\" + \" and \".join([func_correct(out, recursive_level + 1) for out in inp]) + \")\""
   ]
  },
  {
   "cell_type": "markdown",
   "id": "cef49a1f",
   "metadata": {},
   "source": [
    "**Function input**  \n",
    "`[\"a\", [\"b\", [\"c\", \"d\"]], [\"f\", \"g\"]]`\n",
    "\n",
    "**Expected output**  \n",
    "`a and (b and (c and d)) and (f and g)`\n",
    "\n",
    "**Actual output**  \n",
    "`a and b and (c and d) and f and g`\n",
    "\n",
    "**Hint**  \n",
    "Some knowledge of recursive functions may help with the debugging"
   ]
  },
  {
   "cell_type": "markdown",
   "id": "6d768ad7",
   "metadata": {},
   "source": [
    "## Answer:"
   ]
  },
  {
   "cell_type": "markdown",
   "id": "0fa685f8",
   "metadata": {},
   "source": [
    "**Please explain what the function is doing here:**\n"
   ]
  },
  {
   "cell_type": "markdown",
   "id": "5f9fbc22",
   "metadata": {},
   "source": [
    "<h3>Incorrect Function Can be Explained in corresponding Manner: </h3>\n",
    "    <ul>\n",
    "   <li>1. At first outside the function list is passed inside the function , as default value of recursive_level = 0 , variable recursive_level at first iteration is zero. </li>\n",
    "    <li>2. Then function on first iteration check if input is not a list , if True , it returns the value as it is .(BaseCase) </li>\n",
    "    <li> 3. If input is a list , it returns <strong>\" and \".join([func_correct(out, recursive_level + 1) for out in inp])</strong> if recursive level is more than 1 and otherwise returns <strong> \" and \".join([func(out, recursive_level + 1) for out in inp]) </strong> </li>\n",
    "        <ul>\n",
    "        <li> 3.1. If recursive > 1 , then it runs through the input list and passes the corresponding input list elements inside the recursive function with the current recursive level incremented by 1.</li>\n",
    "        <li> 3.2. After All outputs have returned it joins the list with \" and \" and returns the output</li>\n",
    "        <li>3.2. Else, it is similar to the above command , but it also wraps the final String output inside bracket</li>\n",
    "    </ul>\n",
    "    </ul>\n",
    "\n",
    "<h3> What goes Wrong? </h3>\n",
    "Recursive Conitions are wrong, when <strong> recrusive_level >= 1</strong> , we need to return the output with brackets and otherwise(recrusive_level ==0) we do not need outer brackets."
   ]
  },
  {
   "cell_type": "code",
   "execution_count": 44,
   "id": "403183ef",
   "metadata": {},
   "outputs": [
    {
     "name": "stdout",
     "output_type": "stream",
     "text": [
      "a and (b and (c and d)) and (f and g)\n"
     ]
    }
   ],
   "source": [
    "# Begin your code here\n",
    "\n",
    "res = func_correct([\"a\", [\"b\", [\"c\", \"d\"]], [\"f\", \"g\"]])\n",
    "print(res)\n"
   ]
  },
  {
   "cell_type": "code",
   "execution_count": null,
   "id": "3ead8a55",
   "metadata": {},
   "outputs": [],
   "source": []
  }
 ],
 "metadata": {
  "kernelspec": {
   "display_name": "Python 3 (ipykernel)",
   "language": "python",
   "name": "python3"
  },
  "language_info": {
   "codemirror_mode": {
    "name": "ipython",
    "version": 3
   },
   "file_extension": ".py",
   "mimetype": "text/x-python",
   "name": "python",
   "nbconvert_exporter": "python",
   "pygments_lexer": "ipython3",
   "version": "3.9.12"
  }
 },
 "nbformat": 4,
 "nbformat_minor": 5
}
