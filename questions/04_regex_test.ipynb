{
 "cells": [
  {
   "cell_type": "markdown",
   "id": "f53ef2e2",
   "metadata": {},
   "source": [
    "<h1><center>SAP IES AICOE TAKE-HOME TEST </center></h1>\n",
    "<h2><center> REGEX </center></h2>"
   ]
  },
  {
   "cell_type": "markdown",
   "id": "b3e2be5b",
   "metadata": {},
   "source": [
    "# Please choose <font color=\"red\">ONLY 1</font> part of your interest: either Part A or B"
   ]
  },
  {
   "cell_type": "markdown",
   "id": "b82cfbf2",
   "metadata": {},
   "source": [
    "<font size=\"3\">For both parts, please use the respective column from</font> \n",
    "<font size=\"4\"> **contract_dataset_v20220109.csv** </font>"
   ]
  },
  {
   "cell_type": "markdown",
   "id": "9f579a7f",
   "metadata": {},
   "source": [
    "# <font color=\"blue\">Part A</font>"
   ]
  },
  {
   "cell_type": "markdown",
   "id": "2d77cda0",
   "metadata": {},
   "source": [
    "## Guideline: \n",
    "    \n",
    "- Adjust `Contract_Dates` column such that it will display the proper date in form of date/month/year.\n",
    "    - For example:\n",
    "    > \"Contract Start Date: 6-12-2024\" ==> \"6-december-2024\"\n",
    "\n",
    "- Note: \n",
    "    - In Contract_Dates column, ALL-NUMERICAL dates are in the same format:\n",
    "    > 10122012 is in the same format as 09092002 ⇒ 10-december-2012, 9-september-2002\n",
    "    >\n",
    "    > OR\n",
    "    >\n",
    "    > 10122012, 09092002 ⇒ 12-october-2012, 9-september-2002\n",
    "    - However, hybrid dates may not in the same format:\n",
    "    > i.e. dates can be 24-Dec-2020 or Jan-12-2012 etc\n",
    "\n",
    "<img src=\"../data/date.png\" alt=\"drawing\" width=\"300\"/>"
   ]
  },
  {
   "cell_type": "markdown",
   "id": "01d7f035",
   "metadata": {},
   "source": [
    "## Answer:"
   ]
  },
  {
   "cell_type": "code",
   "execution_count": null,
   "id": "806f668a",
   "metadata": {},
   "outputs": [],
   "source": [
    "# Begin your code here\n",
    "\n",
    "\n"
   ]
  },
  {
   "cell_type": "markdown",
   "id": "69c2134e",
   "metadata": {},
   "source": [
    "# <font color=\"blue\">Part B</font>"
   ]
  },
  {
   "cell_type": "markdown",
   "id": "bb571e28",
   "metadata": {},
   "source": [
    "## Guideline:\n",
    "\n",
    "- Look through `Passwords` column and determine if the Password is acceptable using RegEx based on the following rules:\n",
    "\n",
    "    1. passwords must contain at least 1 upper and lower case alphabets\n",
    "    2. passwords must be within 6 to 12 characters length\n",
    "    3. passwords cannot start with '.' or '-'\n",
    "    4. passwords cannot contain ' ' or '|'\n",
    "\n",
    "- List of acceptable special characters  \n",
    "    > !@#$%^&-.()[]{}`~:;=+*\n",
    "- Generate a new column to place the results.\n",
    "    - Example:\n",
    "<img src=\"../data/passwords.png\" alt=\"drawing\" width=\"300\"/>"
   ]
  },
  {
   "cell_type": "markdown",
   "id": "53b092cb",
   "metadata": {},
   "source": [
    "## Answer:"
   ]
  },
  {
   "cell_type": "code",
   "execution_count": 2,
   "id": "e176599b",
   "metadata": {},
   "outputs": [],
   "source": [
    "# Begin your code here\n",
    "\n",
    "\n"
   ]
  }
 ],
 "metadata": {
  "kernelspec": {
   "display_name": "Python 3 (ipykernel)",
   "language": "python",
   "name": "python3"
  },
  "language_info": {
   "codemirror_mode": {
    "name": "ipython",
    "version": 3
   },
   "file_extension": ".py",
   "mimetype": "text/x-python",
   "name": "python",
   "nbconvert_exporter": "python",
   "pygments_lexer": "ipython3",
   "version": "3.9.12"
  }
 },
 "nbformat": 4,
 "nbformat_minor": 5
}
